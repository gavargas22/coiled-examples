{
 "cells": [
  {
   "cell_type": "markdown",
   "metadata": {},
   "source": [
    "# Copy the volume to make it a bit bigger"
   ]
  },
  {
   "cell_type": "code",
   "execution_count": 1,
   "metadata": {},
   "outputs": [],
   "source": [
    "from pathlib import Path\n",
    "import numpy as np\n",
    "import xarray as xr\n",
    "import dask.array as da"
   ]
  },
  {
   "cell_type": "code",
   "execution_count": 2,
   "metadata": {},
   "outputs": [],
   "source": [
    "volume_path = Path(\n",
    "    \"C:\\scratch\\synthoseis_example\\seismic__2024.38842098_example\\seismicCubes_cumsum_fullstack_2024.38842098.npy\"\n",
    ")"
   ]
  },
  {
   "cell_type": "code",
   "execution_count": 26,
   "metadata": {},
   "outputs": [],
   "source": [
    "volume_numpy = np.load(volume_path)\n",
    "volume_numpy = volume_numpy.astype(np.float16)"
   ]
  },
  {
   "cell_type": "code",
   "execution_count": 27,
   "metadata": {},
   "outputs": [
    {
     "data": {
      "text/plain": [
       "(300, 300, 1259)"
      ]
     },
     "execution_count": 27,
     "metadata": {},
     "output_type": "execute_result"
    }
   ],
   "source": [
    "volume_numpy.shape"
   ]
  },
  {
   "cell_type": "markdown",
   "metadata": {},
   "source": [
    "## Create some coordinates for xarray"
   ]
  },
  {
   "cell_type": "code",
   "execution_count": 28,
   "metadata": {},
   "outputs": [],
   "source": [
    "track_coords = np.linspace(\n",
    "    start=1000,\n",
    "    stop=4000,\n",
    "    num=300,\n",
    "    dtype=np.uint32,\n",
    ")\n",
    "\n",
    "bin_coords = np.linspace(\n",
    "    start=1000,\n",
    "    stop=4000,\n",
    "    num=300,\n",
    "    dtype=np.uint32,\n",
    ")\n",
    "\n",
    "sample_coords = np.linspace(\n",
    "    start=0.0,\n",
    "    stop=5000.0,\n",
    "    num=1259,\n",
    "    dtype=np.float32,\n",
    ")\n",
    "\n",
    "dimensions = (\"track_no\", \"bin_no\", \"depth\")\n",
    "coords = (track_coords, bin_coords, sample_coords)"
   ]
  },
  {
   "cell_type": "code",
   "execution_count": 29,
   "metadata": {},
   "outputs": [],
   "source": [
    "volume_da = da.from_array(volume_numpy)"
   ]
  },
  {
   "cell_type": "code",
   "execution_count": 30,
   "metadata": {},
   "outputs": [],
   "source": [
    "volume_da = xr.DataArray(\n",
    "    data=volume_da,\n",
    "    name=\"synthetic_seismic\",\n",
    "    coords=coords,\n",
    "    dims=dimensions\n",
    ")"
   ]
  },
  {
   "cell_type": "code",
   "execution_count": 46,
   "metadata": {},
   "outputs": [],
   "source": [
    "copies = [volume_da for _ in range(10)]"
   ]
  },
  {
   "cell_type": "code",
   "execution_count": 47,
   "metadata": {},
   "outputs": [],
   "source": [
    "stacked = da.concatenate(copies, axis=0)"
   ]
  },
  {
   "cell_type": "code",
   "execution_count": 48,
   "metadata": {},
   "outputs": [],
   "source": [
    "new_copies = [stacked for _ in range(10)]"
   ]
  },
  {
   "cell_type": "code",
   "execution_count": 49,
   "metadata": {},
   "outputs": [],
   "source": [
    "final_stacked = da.concatenate(new_copies, axis=1)"
   ]
  },
  {
   "cell_type": "code",
   "execution_count": 51,
   "metadata": {},
   "outputs": [],
   "source": [
    "final_stacked = final_stacked.rechunk(chunks=(300, 300, \"auto\"))"
   ]
  },
  {
   "cell_type": "code",
   "execution_count": 52,
   "metadata": {},
   "outputs": [
    {
     "data": {
      "text/html": [
       "<table>\n",
       "    <tr>\n",
       "        <td>\n",
       "            <table style=\"border-collapse: collapse;\">\n",
       "                <thead>\n",
       "                    <tr>\n",
       "                        <td> </td>\n",
       "                        <th> Array </th>\n",
       "                        <th> Chunk </th>\n",
       "                    </tr>\n",
       "                </thead>\n",
       "                <tbody>\n",
       "                    \n",
       "                    <tr>\n",
       "                        <th> Bytes </th>\n",
       "                        <td> 21.11 GiB </td>\n",
       "                        <td> 127.89 MiB </td>\n",
       "                    </tr>\n",
       "                    \n",
       "                    <tr>\n",
       "                        <th> Shape </th>\n",
       "                        <td> (3000, 3000, 1259) </td>\n",
       "                        <td> (300, 300, 745) </td>\n",
       "                    </tr>\n",
       "                    <tr>\n",
       "                        <th> Dask graph </th>\n",
       "                        <td colspan=\"2\"> 200 chunks in 3 graph layers </td>\n",
       "                    </tr>\n",
       "                    <tr>\n",
       "                        <th> Data type </th>\n",
       "                        <td colspan=\"2\"> float16 numpy.ndarray </td>\n",
       "                    </tr>\n",
       "                </tbody>\n",
       "            </table>\n",
       "        </td>\n",
       "        <td>\n",
       "        <svg width=\"180\" height=\"240\" style=\"stroke:rgb(0,0,0);stroke-width:1\" >\n",
       "\n",
       "  <!-- Horizontal lines -->\n",
       "  <line x1=\"10\" y1=\"0\" x2=\"80\" y2=\"70\" style=\"stroke-width:2\" />\n",
       "  <line x1=\"10\" y1=\"12\" x2=\"80\" y2=\"82\" />\n",
       "  <line x1=\"10\" y1=\"24\" x2=\"80\" y2=\"94\" />\n",
       "  <line x1=\"10\" y1=\"36\" x2=\"80\" y2=\"106\" />\n",
       "  <line x1=\"10\" y1=\"48\" x2=\"80\" y2=\"118\" />\n",
       "  <line x1=\"10\" y1=\"60\" x2=\"80\" y2=\"130\" />\n",
       "  <line x1=\"10\" y1=\"72\" x2=\"80\" y2=\"142\" />\n",
       "  <line x1=\"10\" y1=\"84\" x2=\"80\" y2=\"154\" />\n",
       "  <line x1=\"10\" y1=\"96\" x2=\"80\" y2=\"166\" />\n",
       "  <line x1=\"10\" y1=\"108\" x2=\"80\" y2=\"178\" />\n",
       "  <line x1=\"10\" y1=\"120\" x2=\"80\" y2=\"190\" style=\"stroke-width:2\" />\n",
       "\n",
       "  <!-- Vertical lines -->\n",
       "  <line x1=\"10\" y1=\"0\" x2=\"10\" y2=\"120\" style=\"stroke-width:2\" />\n",
       "  <line x1=\"17\" y1=\"7\" x2=\"17\" y2=\"127\" />\n",
       "  <line x1=\"24\" y1=\"14\" x2=\"24\" y2=\"134\" />\n",
       "  <line x1=\"31\" y1=\"21\" x2=\"31\" y2=\"141\" />\n",
       "  <line x1=\"38\" y1=\"28\" x2=\"38\" y2=\"148\" />\n",
       "  <line x1=\"45\" y1=\"35\" x2=\"45\" y2=\"155\" />\n",
       "  <line x1=\"52\" y1=\"42\" x2=\"52\" y2=\"162\" />\n",
       "  <line x1=\"59\" y1=\"49\" x2=\"59\" y2=\"169\" />\n",
       "  <line x1=\"66\" y1=\"56\" x2=\"66\" y2=\"176\" />\n",
       "  <line x1=\"73\" y1=\"63\" x2=\"73\" y2=\"183\" />\n",
       "  <line x1=\"80\" y1=\"70\" x2=\"80\" y2=\"190\" style=\"stroke-width:2\" />\n",
       "\n",
       "  <!-- Colored Rectangle -->\n",
       "  <polygon points=\"10.0,0.0 80.58823529411765,70.58823529411765 80.58823529411765,190.58823529411765 10.0,120.0\" style=\"fill:#ECB172A0;stroke-width:0\"/>\n",
       "\n",
       "  <!-- Horizontal lines -->\n",
       "  <line x1=\"10\" y1=\"0\" x2=\"60\" y2=\"0\" style=\"stroke-width:2\" />\n",
       "  <line x1=\"17\" y1=\"7\" x2=\"67\" y2=\"7\" />\n",
       "  <line x1=\"24\" y1=\"14\" x2=\"74\" y2=\"14\" />\n",
       "  <line x1=\"31\" y1=\"21\" x2=\"81\" y2=\"21\" />\n",
       "  <line x1=\"38\" y1=\"28\" x2=\"88\" y2=\"28\" />\n",
       "  <line x1=\"45\" y1=\"35\" x2=\"95\" y2=\"35\" />\n",
       "  <line x1=\"52\" y1=\"42\" x2=\"102\" y2=\"42\" />\n",
       "  <line x1=\"59\" y1=\"49\" x2=\"109\" y2=\"49\" />\n",
       "  <line x1=\"66\" y1=\"56\" x2=\"116\" y2=\"56\" />\n",
       "  <line x1=\"73\" y1=\"63\" x2=\"123\" y2=\"63\" />\n",
       "  <line x1=\"80\" y1=\"70\" x2=\"130\" y2=\"70\" style=\"stroke-width:2\" />\n",
       "\n",
       "  <!-- Vertical lines -->\n",
       "  <line x1=\"10\" y1=\"0\" x2=\"80\" y2=\"70\" style=\"stroke-width:2\" />\n",
       "  <line x1=\"39\" y1=\"0\" x2=\"110\" y2=\"70\" />\n",
       "  <line x1=\"60\" y1=\"0\" x2=\"130\" y2=\"70\" style=\"stroke-width:2\" />\n",
       "\n",
       "  <!-- Colored Rectangle -->\n",
       "  <polygon points=\"10.0,0.0 60.36,0.0 130.94823529411764,70.58823529411765 80.58823529411765,70.58823529411765\" style=\"fill:#ECB172A0;stroke-width:0\"/>\n",
       "\n",
       "  <!-- Horizontal lines -->\n",
       "  <line x1=\"80\" y1=\"70\" x2=\"130\" y2=\"70\" style=\"stroke-width:2\" />\n",
       "  <line x1=\"80\" y1=\"82\" x2=\"130\" y2=\"82\" />\n",
       "  <line x1=\"80\" y1=\"94\" x2=\"130\" y2=\"94\" />\n",
       "  <line x1=\"80\" y1=\"106\" x2=\"130\" y2=\"106\" />\n",
       "  <line x1=\"80\" y1=\"118\" x2=\"130\" y2=\"118\" />\n",
       "  <line x1=\"80\" y1=\"130\" x2=\"130\" y2=\"130\" />\n",
       "  <line x1=\"80\" y1=\"142\" x2=\"130\" y2=\"142\" />\n",
       "  <line x1=\"80\" y1=\"154\" x2=\"130\" y2=\"154\" />\n",
       "  <line x1=\"80\" y1=\"166\" x2=\"130\" y2=\"166\" />\n",
       "  <line x1=\"80\" y1=\"178\" x2=\"130\" y2=\"178\" />\n",
       "  <line x1=\"80\" y1=\"190\" x2=\"130\" y2=\"190\" style=\"stroke-width:2\" />\n",
       "\n",
       "  <!-- Vertical lines -->\n",
       "  <line x1=\"80\" y1=\"70\" x2=\"80\" y2=\"190\" style=\"stroke-width:2\" />\n",
       "  <line x1=\"110\" y1=\"70\" x2=\"110\" y2=\"190\" />\n",
       "  <line x1=\"130\" y1=\"70\" x2=\"130\" y2=\"190\" style=\"stroke-width:2\" />\n",
       "\n",
       "  <!-- Colored Rectangle -->\n",
       "  <polygon points=\"80.58823529411765,70.58823529411765 130.94823529411764,70.58823529411765 130.94823529411764,190.58823529411765 80.58823529411765,190.58823529411765\" style=\"fill:#ECB172A0;stroke-width:0\"/>\n",
       "\n",
       "  <!-- Text -->\n",
       "  <text x=\"105.768235\" y=\"210.588235\" font-size=\"1.0rem\" font-weight=\"100\" text-anchor=\"middle\" >1259</text>\n",
       "  <text x=\"150.948235\" y=\"130.588235\" font-size=\"1.0rem\" font-weight=\"100\" text-anchor=\"middle\" transform=\"rotate(-90,150.948235,130.588235)\">3000</text>\n",
       "  <text x=\"35.294118\" y=\"175.294118\" font-size=\"1.0rem\" font-weight=\"100\" text-anchor=\"middle\" transform=\"rotate(45,35.294118,175.294118)\">3000</text>\n",
       "</svg>\n",
       "        </td>\n",
       "    </tr>\n",
       "</table>"
      ],
      "text/plain": [
       "dask.array<concatenate, shape=(3000, 3000, 1259), dtype=float16, chunksize=(300, 300, 745), chunktype=numpy.ndarray>"
      ]
     },
     "execution_count": 52,
     "metadata": {},
     "output_type": "execute_result"
    }
   ],
   "source": [
    "final_stacked"
   ]
  },
  {
   "cell_type": "code",
   "execution_count": 53,
   "metadata": {},
   "outputs": [],
   "source": [
    "track_coords = np.linspace(\n",
    "    start=1000,\n",
    "    stop=4000,\n",
    "    num=final_stacked.shape[0],\n",
    "    dtype=np.uint32,\n",
    ")\n",
    "\n",
    "bin_coords = np.linspace(\n",
    "    start=1000,\n",
    "    stop=4000,\n",
    "    num=final_stacked.shape[1],\n",
    "    dtype=np.uint32,\n",
    ")\n",
    "\n",
    "sample_coords = np.linspace(\n",
    "    start=0.0,\n",
    "    stop=5000.0,\n",
    "    num=final_stacked.shape[2],\n",
    "    dtype=np.float32,\n",
    ")\n",
    "\n",
    "dimensions = (\"track_no\", \"bin_no\", \"depth\")\n",
    "coords = (track_coords, bin_coords, sample_coords)"
   ]
  },
  {
   "cell_type": "code",
   "execution_count": 54,
   "metadata": {},
   "outputs": [],
   "source": [
    "volume_da_stacked = xr.DataArray(\n",
    "    data=final_stacked, name=\"synthetic_seismic\", coords=coords, dims=dimensions\n",
    ")"
   ]
  },
  {
   "cell_type": "code",
   "execution_count": 56,
   "metadata": {},
   "outputs": [],
   "source": [
    "future_save = volume_da_stacked.to_zarr(\"s3://coiled-test-data-synthetic-seismic/synthetic_volume/\", compute=False)"
   ]
  },
  {
   "cell_type": "code",
   "execution_count": 58,
   "metadata": {},
   "outputs": [],
   "source": [
    "from dask.diagnostics import ProgressBar"
   ]
  },
  {
   "cell_type": "code",
   "execution_count": 59,
   "metadata": {},
   "outputs": [
    {
     "name": "stdout",
     "output_type": "stream",
     "text": [
      "[########################################] | 100% Completed | 20m 41s\n"
     ]
    }
   ],
   "source": [
    "with ProgressBar():\n",
    "  future_save.compute()"
   ]
  },
  {
   "cell_type": "code",
   "execution_count": null,
   "metadata": {},
   "outputs": [],
   "source": []
  }
 ],
 "metadata": {
  "kernelspec": {
   "display_name": "synthoseis",
   "language": "python",
   "name": "python3"
  },
  "language_info": {
   "codemirror_mode": {
    "name": "ipython",
    "version": 3
   },
   "file_extension": ".py",
   "mimetype": "text/x-python",
   "name": "python",
   "nbconvert_exporter": "python",
   "pygments_lexer": "ipython3",
   "version": "3.11.4"
  }
 },
 "nbformat": 4,
 "nbformat_minor": 2
}
